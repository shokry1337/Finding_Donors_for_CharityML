{
 "cells": [
  {
   "cell_type": "markdown",
   "metadata": {},
   "source": [
    "# <center>Finding Donors for *CharityML*</center>\n",
    "\n",
    "## Table of Contents\n",
    "\n",
    "- [Introduction](#introduction)\n",
    "- [Exploration and Preprocessing](#exploration_and_preprocessing)\n",
    "    - [Logarithmic Transformation](#logarithmic_transformation)\n",
    "    - [Normalization](#normalization)\n",
    "    - [One-Hot Encoding](#one-hot_encoding)\n",
    "    - [Splitting](#splitting)\n",
    "- [Choosing a Model](#choosing_a_model)\n",
    "    - [Implementation](#implementation1)\n",
    "    - [Improving Results](#improving_results)"
   ]
  },
  {
   "cell_type": "markdown",
   "metadata": {},
   "source": [
    "----\n",
    "\n",
    "<a id='introduction'></a>\n",
    "\n",
    "## Introduction"
   ]
  },
  {
   "cell_type": "code",
   "execution_count": 1,
   "metadata": {},
   "outputs": [],
   "source": [
    "# Importing packages\n",
    "from time import time\n",
    "import pandas as pd\n",
    "import numpy as np\n",
    "import visuals as vs\n",
    "import pickle\n",
    "\n",
    "from sklearn.preprocessing import MinMaxScaler\n",
    "from sklearn.model_selection import train_test_split, GridSearchCV\n",
    "from sklearn.metrics import fbeta_score, accuracy_score, make_scorer\n",
    "from sklearn.naive_bayes import GaussianNB\n",
    "from sklearn.tree import DecisionTreeClassifier\n",
    "from sklearn.ensemble import RandomForestClassifier\n",
    "from sklearn.svm import SVC"
   ]
  },
  {
   "cell_type": "code",
   "execution_count": 2,
   "metadata": {},
   "outputs": [],
   "source": [
    "# Plotting graphs inside the notebook\n",
    "%matplotlib inline\n",
    "\n",
    "# 0: black, 1: white\n",
    "vs.set_color(0)"
   ]
  },
  {
   "cell_type": "markdown",
   "metadata": {},
   "source": [
    "----\n",
    "\n",
    "<a id='exploration_and_preprocessing'></a>\n",
    "\n",
    "## Exploration and Preprocessing"
   ]
  },
  {
   "cell_type": "code",
   "execution_count": 3,
   "metadata": {},
   "outputs": [
    {
     "data": {
      "text/html": [
       "<div>\n",
       "<style scoped>\n",
       "    .dataframe tbody tr th:only-of-type {\n",
       "        vertical-align: middle;\n",
       "    }\n",
       "\n",
       "    .dataframe tbody tr th {\n",
       "        vertical-align: top;\n",
       "    }\n",
       "\n",
       "    .dataframe thead th {\n",
       "        text-align: right;\n",
       "    }\n",
       "</style>\n",
       "<table border=\"1\" class=\"dataframe\">\n",
       "  <thead>\n",
       "    <tr style=\"text-align: right;\">\n",
       "      <th></th>\n",
       "      <th>age</th>\n",
       "      <th>workclass</th>\n",
       "      <th>education_level</th>\n",
       "      <th>education-num</th>\n",
       "      <th>marital-status</th>\n",
       "      <th>occupation</th>\n",
       "      <th>relationship</th>\n",
       "      <th>race</th>\n",
       "      <th>sex</th>\n",
       "      <th>capital-gain</th>\n",
       "      <th>capital-loss</th>\n",
       "      <th>hours-per-week</th>\n",
       "      <th>native-country</th>\n",
       "      <th>income</th>\n",
       "    </tr>\n",
       "  </thead>\n",
       "  <tbody>\n",
       "    <tr>\n",
       "      <th>0</th>\n",
       "      <td>39</td>\n",
       "      <td>State-gov</td>\n",
       "      <td>Bachelors</td>\n",
       "      <td>13.0</td>\n",
       "      <td>Never-married</td>\n",
       "      <td>Adm-clerical</td>\n",
       "      <td>Not-in-family</td>\n",
       "      <td>White</td>\n",
       "      <td>Male</td>\n",
       "      <td>2174.0</td>\n",
       "      <td>0.0</td>\n",
       "      <td>40.0</td>\n",
       "      <td>United-States</td>\n",
       "      <td>&lt;=50K</td>\n",
       "    </tr>\n",
       "  </tbody>\n",
       "</table>\n",
       "</div>"
      ],
      "text/plain": [
       "   age   workclass education_level  education-num  marital-status  \\\n",
       "0   39   State-gov       Bachelors           13.0   Never-married   \n",
       "\n",
       "      occupation    relationship    race    sex  capital-gain  capital-loss  \\\n",
       "0   Adm-clerical   Not-in-family   White   Male        2174.0           0.0   \n",
       "\n",
       "   hours-per-week  native-country income  \n",
       "0            40.0   United-States  <=50K  "
      ]
     },
     "execution_count": 3,
     "metadata": {},
     "output_type": "execute_result"
    }
   ],
   "source": [
    "# Loading the dataset and displaying the first row\n",
    "df = pd.read_csv('census.csv')\n",
    "df.head(1)"
   ]
  },
  {
   "cell_type": "markdown",
   "metadata": {},
   "source": [
    "**Continous Features**\n",
    "> '`age`', '`education-num`', '`capital-gain`', '`capital-loss`', '`hours-per-week`'\n",
    "\n",
    "**Categorical Features**\n",
    "> '`workclass`', '`education`', '`marital-status`', '`occupation`', '`relationship`', '`race`', '`sex`', '`native-country`', \n",
    "'`income`'"
   ]
  },
  {
   "cell_type": "code",
   "execution_count": 4,
   "metadata": {
    "collapsed": true
   },
   "outputs": [
    {
     "name": "stdout",
     "output_type": "stream",
     "text": [
      "Total number of records: 45222\n",
      "Individuals making at most $50,000: 34014\n",
      "Individuals making more than $50,000: 11208 (24.7844%)\n"
     ]
    }
   ],
   "source": [
    "n_records = df.shape[0]\n",
    "print(f'Total number of records: {n_records}')\n",
    "\n",
    "n_at_most_50k = df[df['income'] == '<=50K'].shape[0]\n",
    "print('Individuals making at most $50,000: {}'.format(n_at_most_50k))\n",
    "\n",
    "n_greater_50k = df[df['income'] == '>50K'].shape[0]\n",
    "print(f'Individuals making more than $50,000: {n_greater_50k} ({round((n_greater_50k / n_records) * 100, 4)}%)')"
   ]
  },
  {
   "cell_type": "code",
   "execution_count": 5,
   "metadata": {},
   "outputs": [
    {
     "data": {
      "text/html": [
       "<div>\n",
       "<style scoped>\n",
       "    .dataframe tbody tr th:only-of-type {\n",
       "        vertical-align: middle;\n",
       "    }\n",
       "\n",
       "    .dataframe tbody tr th {\n",
       "        vertical-align: top;\n",
       "    }\n",
       "\n",
       "    .dataframe thead th {\n",
       "        text-align: right;\n",
       "    }\n",
       "</style>\n",
       "<table border=\"1\" class=\"dataframe\">\n",
       "  <thead>\n",
       "    <tr style=\"text-align: right;\">\n",
       "      <th></th>\n",
       "      <th>age</th>\n",
       "      <th>education-num</th>\n",
       "      <th>capital-gain</th>\n",
       "      <th>capital-loss</th>\n",
       "      <th>hours-per-week</th>\n",
       "    </tr>\n",
       "  </thead>\n",
       "  <tbody>\n",
       "    <tr>\n",
       "      <th>count</th>\n",
       "      <td>45222.000000</td>\n",
       "      <td>45222.000000</td>\n",
       "      <td>45222.000000</td>\n",
       "      <td>45222.000000</td>\n",
       "      <td>45222.000000</td>\n",
       "    </tr>\n",
       "    <tr>\n",
       "      <th>mean</th>\n",
       "      <td>38.547941</td>\n",
       "      <td>10.118460</td>\n",
       "      <td>1101.430344</td>\n",
       "      <td>88.595418</td>\n",
       "      <td>40.938017</td>\n",
       "    </tr>\n",
       "    <tr>\n",
       "      <th>std</th>\n",
       "      <td>13.217870</td>\n",
       "      <td>2.552881</td>\n",
       "      <td>7506.430084</td>\n",
       "      <td>404.956092</td>\n",
       "      <td>12.007508</td>\n",
       "    </tr>\n",
       "    <tr>\n",
       "      <th>min</th>\n",
       "      <td>17.000000</td>\n",
       "      <td>1.000000</td>\n",
       "      <td>0.000000</td>\n",
       "      <td>0.000000</td>\n",
       "      <td>1.000000</td>\n",
       "    </tr>\n",
       "    <tr>\n",
       "      <th>25%</th>\n",
       "      <td>28.000000</td>\n",
       "      <td>9.000000</td>\n",
       "      <td>0.000000</td>\n",
       "      <td>0.000000</td>\n",
       "      <td>40.000000</td>\n",
       "    </tr>\n",
       "    <tr>\n",
       "      <th>50%</th>\n",
       "      <td>37.000000</td>\n",
       "      <td>10.000000</td>\n",
       "      <td>0.000000</td>\n",
       "      <td>0.000000</td>\n",
       "      <td>40.000000</td>\n",
       "    </tr>\n",
       "    <tr>\n",
       "      <th>75%</th>\n",
       "      <td>47.000000</td>\n",
       "      <td>13.000000</td>\n",
       "      <td>0.000000</td>\n",
       "      <td>0.000000</td>\n",
       "      <td>45.000000</td>\n",
       "    </tr>\n",
       "    <tr>\n",
       "      <th>max</th>\n",
       "      <td>90.000000</td>\n",
       "      <td>16.000000</td>\n",
       "      <td>99999.000000</td>\n",
       "      <td>4356.000000</td>\n",
       "      <td>99.000000</td>\n",
       "    </tr>\n",
       "  </tbody>\n",
       "</table>\n",
       "</div>"
      ],
      "text/plain": [
       "                age  education-num  capital-gain  capital-loss  hours-per-week\n",
       "count  45222.000000   45222.000000  45222.000000  45222.000000    45222.000000\n",
       "mean      38.547941      10.118460   1101.430344     88.595418       40.938017\n",
       "std       13.217870       2.552881   7506.430084    404.956092       12.007508\n",
       "min       17.000000       1.000000      0.000000      0.000000        1.000000\n",
       "25%       28.000000       9.000000      0.000000      0.000000       40.000000\n",
       "50%       37.000000      10.000000      0.000000      0.000000       40.000000\n",
       "75%       47.000000      13.000000      0.000000      0.000000       45.000000\n",
       "max       90.000000      16.000000  99999.000000   4356.000000       99.000000"
      ]
     },
     "execution_count": 5,
     "metadata": {},
     "output_type": "execute_result"
    }
   ],
   "source": [
    "# Generating descriptive statistics of continous features\n",
    "df.describe()"
   ]
  },
  {
   "cell_type": "markdown",
   "metadata": {},
   "source": [
    "<a id='logarithmic_transformation'></a>\n",
    "\n",
    "### Logarithmic Transformation"
   ]
  },
  {
   "cell_type": "markdown",
   "metadata": {},
   "source": [
    "> '`capital-gain`' and '`capital-loss`' appear to be heavily skewed (their values tend to lie near a single number, but will also have a non-trivial number of vastly larger or smaller values than that single number). Algorithms can be sensitive to such distributions, and can underperform if the range is not properly normalized."
   ]
  },
  {
   "cell_type": "code",
   "execution_count": 6,
   "metadata": {
    "collapsed": true
   },
   "outputs": [
    {
     "data": {
      "image/png": "[encoded data removed]",
      "text/plain": [
       "<Figure size 792x360 with 2 Axes>"
      ]
     },
     "metadata": {
      "needs_background": "light"
     },
     "output_type": "display_data"
    }
   ],
   "source": [
    "numerical = ['age', 'education-num', 'capital-gain', 'capital-loss', 'hours-per-week']\n",
    "skewed = [numerical[2], numerical[3]]\n",
    "\n",
    "# Visualizing distributions of skewed continuous features\n",
    "vs.distribution(df, skewed)"
   ]
  },
  {
   "cell_type": "markdown",
   "metadata": {},
   "source": [
    "> [Logarithmic transformation](https://en.wikipedia.org/wiki/Data_transformation_(statistics)) should be applied to '`capital-gain`' and '`capital-loss`' so that the very large and very small values do not negatively affect the performance of a learning algorithm. The logarithm of `0` is undefined, so we must shift the values by a small amount above `0` in order for the transformation to be successful."
   ]
  },
  {
   "cell_type": "code",
   "execution_count": 7,
   "metadata": {},
   "outputs": [],
   "source": [
    "# Splitting data into features and income\n",
    "features_df = df.drop('income', axis=1)\n",
    "income_df = df['income']"
   ]
  },
  {
   "cell_type": "code",
   "execution_count": 8,
   "metadata": {
    "collapsed": true
   },
   "outputs": [],
   "source": [
    "# Creating a duplciate dataframe and log-transforming the skewed features\n",
    "features_log_transformed = features_df.copy()\n",
    "features_log_transformed[skewed] = features_df[skewed].apply(lambda x: np.log(x + 1))"
   ]
  },
  {
   "cell_type": "markdown",
   "metadata": {},
   "source": [
    "<a id='normalization'></a>\n",
    "\n",
    "### Normalization"
   ]
  },
  {
   "cell_type": "markdown",
   "metadata": {},
   "source": [
    "> Using sklearn's [MinMaxScaler](http://scikit-learn.org/stable/modules/generated/sklearn.preprocessing.MinMaxScaler.html) on continuous features to ensure that each feature is treated equally when applying a learning algorithm."
   ]
  },
  {
   "cell_type": "code",
   "execution_count": 9,
   "metadata": {
    "collapsed": true
   },
   "outputs": [
    {
     "data": {
      "text/html": [
       "<div>\n",
       "<style scoped>\n",
       "    .dataframe tbody tr th:only-of-type {\n",
       "        vertical-align: middle;\n",
       "    }\n",
       "\n",
       "    .dataframe tbody tr th {\n",
       "        vertical-align: top;\n",
       "    }\n",
       "\n",
       "    .dataframe thead th {\n",
       "        text-align: right;\n",
       "    }\n",
       "</style>\n",
       "<table border=\"1\" class=\"dataframe\">\n",
       "  <thead>\n",
       "    <tr style=\"text-align: right;\">\n",
       "      <th></th>\n",
       "      <th>age</th>\n",
       "      <th>workclass</th>\n",
       "      <th>education_level</th>\n",
       "      <th>education-num</th>\n",
       "      <th>marital-status</th>\n",
       "      <th>occupation</th>\n",
       "      <th>relationship</th>\n",
       "      <th>race</th>\n",
       "      <th>sex</th>\n",
       "      <th>capital-gain</th>\n",
       "      <th>capital-loss</th>\n",
       "      <th>hours-per-week</th>\n",
       "      <th>native-country</th>\n",
       "    </tr>\n",
       "  </thead>\n",
       "  <tbody>\n",
       "    <tr>\n",
       "      <th>0</th>\n",
       "      <td>0.30137</td>\n",
       "      <td>State-gov</td>\n",
       "      <td>Bachelors</td>\n",
       "      <td>0.8</td>\n",
       "      <td>Never-married</td>\n",
       "      <td>Adm-clerical</td>\n",
       "      <td>Not-in-family</td>\n",
       "      <td>White</td>\n",
       "      <td>Male</td>\n",
       "      <td>0.667492</td>\n",
       "      <td>0.0</td>\n",
       "      <td>0.397959</td>\n",
       "      <td>United-States</td>\n",
       "    </tr>\n",
       "  </tbody>\n",
       "</table>\n",
       "</div>"
      ],
      "text/plain": [
       "       age   workclass education_level  education-num  marital-status  \\\n",
       "0  0.30137   State-gov       Bachelors            0.8   Never-married   \n",
       "\n",
       "      occupation    relationship    race    sex  capital-gain  capital-loss  \\\n",
       "0   Adm-clerical   Not-in-family   White   Male      0.667492           0.0   \n",
       "\n",
       "   hours-per-week  native-country  \n",
       "0        0.397959   United-States  "
      ]
     },
     "execution_count": 9,
     "metadata": {},
     "output_type": "execute_result"
    }
   ],
   "source": [
    "# Initializing a scaler\n",
    "scaler = MinMaxScaler()\n",
    "\n",
    "# Creating a duplicate dataframe and normalizing the features\n",
    "features_log_minmax_transform = features_log_transformed.copy()\n",
    "features_log_minmax_transform[numerical] = scaler.fit_transform(features_log_transformed[numerical])\n",
    "\n",
    "features_log_minmax_transform.head(1)"
   ]
  },
  {
   "cell_type": "code",
   "execution_count": 10,
   "metadata": {},
   "outputs": [
    {
     "data": {
      "image/png": "[encoded data removed]",
      "text/plain": [
       "<Figure size 792x360 with 2 Axes>"
      ]
     },
     "metadata": {
      "needs_background": "light"
     },
     "output_type": "display_data"
    }
   ],
   "source": [
    "# Visualizing distributions of log-transformed continuous features\n",
    "vs.distribution(features_log_minmax_transform, skewed, True)"
   ]
  },
  {
   "cell_type": "markdown",
   "metadata": {},
   "source": [
    "<a id='one-hot_encoding'></a>\n",
    "\n",
    "### One-Hot Encoding"
   ]
  },
  {
   "cell_type": "markdown",
   "metadata": {},
   "source": [
    "> Learning algorithms expect input to be numeric, which requires categorical features to be converted. One popular method is using the `one-hot encoding` scheme. It creates a dummy variable for each possible category of each categorical feature."
   ]
  },
  {
   "cell_type": "code",
   "execution_count": 11,
   "metadata": {},
   "outputs": [
    {
     "data": {
      "text/html": [
       "<div>\n",
       "<style scoped>\n",
       "    .dataframe tbody tr th:only-of-type {\n",
       "        vertical-align: middle;\n",
       "    }\n",
       "\n",
       "    .dataframe tbody tr th {\n",
       "        vertical-align: top;\n",
       "    }\n",
       "\n",
       "    .dataframe thead th {\n",
       "        text-align: right;\n",
       "    }\n",
       "</style>\n",
       "<table border=\"1\" class=\"dataframe\">\n",
       "  <thead>\n",
       "    <tr style=\"text-align: right;\">\n",
       "      <th></th>\n",
       "      <th>age</th>\n",
       "      <th>education-num</th>\n",
       "      <th>capital-gain</th>\n",
       "      <th>capital-loss</th>\n",
       "      <th>hours-per-week</th>\n",
       "      <th>workclass_ Federal-gov</th>\n",
       "      <th>workclass_ Local-gov</th>\n",
       "      <th>workclass_ Private</th>\n",
       "      <th>workclass_ Self-emp-inc</th>\n",
       "      <th>workclass_ Self-emp-not-inc</th>\n",
       "      <th>...</th>\n",
       "      <th>native-country_ Portugal</th>\n",
       "      <th>native-country_ Puerto-Rico</th>\n",
       "      <th>native-country_ Scotland</th>\n",
       "      <th>native-country_ South</th>\n",
       "      <th>native-country_ Taiwan</th>\n",
       "      <th>native-country_ Thailand</th>\n",
       "      <th>native-country_ Trinadad&amp;Tobago</th>\n",
       "      <th>native-country_ United-States</th>\n",
       "      <th>native-country_ Vietnam</th>\n",
       "      <th>native-country_ Yugoslavia</th>\n",
       "    </tr>\n",
       "  </thead>\n",
       "  <tbody>\n",
       "    <tr>\n",
       "      <th>0</th>\n",
       "      <td>0.30137</td>\n",
       "      <td>0.8</td>\n",
       "      <td>0.667492</td>\n",
       "      <td>0.0</td>\n",
       "      <td>0.397959</td>\n",
       "      <td>0</td>\n",
       "      <td>0</td>\n",
       "      <td>0</td>\n",
       "      <td>0</td>\n",
       "      <td>0</td>\n",
       "      <td>...</td>\n",
       "      <td>0</td>\n",
       "      <td>0</td>\n",
       "      <td>0</td>\n",
       "      <td>0</td>\n",
       "      <td>0</td>\n",
       "      <td>0</td>\n",
       "      <td>0</td>\n",
       "      <td>1</td>\n",
       "      <td>0</td>\n",
       "      <td>0</td>\n",
       "    </tr>\n",
       "  </tbody>\n",
       "</table>\n",
       "<p>1 rows × 103 columns</p>\n",
       "</div>"
      ],
      "text/plain": [
       "       age  education-num  capital-gain  capital-loss  hours-per-week  \\\n",
       "0  0.30137            0.8      0.667492           0.0        0.397959   \n",
       "\n",
       "   workclass_ Federal-gov  workclass_ Local-gov  workclass_ Private  \\\n",
       "0                       0                     0                   0   \n",
       "\n",
       "   workclass_ Self-emp-inc  workclass_ Self-emp-not-inc  ...  \\\n",
       "0                        0                            0  ...   \n",
       "\n",
       "   native-country_ Portugal  native-country_ Puerto-Rico  \\\n",
       "0                         0                            0   \n",
       "\n",
       "   native-country_ Scotland  native-country_ South  native-country_ Taiwan  \\\n",
       "0                         0                      0                       0   \n",
       "\n",
       "   native-country_ Thailand  native-country_ Trinadad&Tobago  \\\n",
       "0                         0                                0   \n",
       "\n",
       "   native-country_ United-States  native-country_ Vietnam  \\\n",
       "0                              1                        0   \n",
       "\n",
       "   native-country_ Yugoslavia  \n",
       "0                           0  \n",
       "\n",
       "[1 rows x 103 columns]"
      ]
     },
     "execution_count": 11,
     "metadata": {},
     "output_type": "execute_result"
    }
   ],
   "source": [
    "# One-hot encoding\n",
    "features_final = pd.get_dummies(features_log_minmax_transform)\n",
    "features_final.head(1)"
   ]
  },
  {
   "cell_type": "code",
   "execution_count": 12,
   "metadata": {
    "collapsed": true,
    "scrolled": true
   },
   "outputs": [],
   "source": [
    "# Mapping the 'income_raw' data to numerical values\n",
    "income = income_df.map({'<=50K':0, '>50K':1})"
   ]
  },
  {
   "cell_type": "markdown",
   "metadata": {},
   "source": [
    "<a id='splitting'></a>\n",
    "\n",
    "### Splitting"
   ]
  },
  {
   "cell_type": "markdown",
   "metadata": {},
   "source": [
    "> Now all categorical features have been converted into numerical features, and all numerical features have been normalized. Data should be split into training (`80%`) and testing (`20%`) sets."
   ]
  },
  {
   "cell_type": "code",
   "execution_count": 13,
   "metadata": {
    "collapsed": true
   },
   "outputs": [
    {
     "name": "stdout",
     "output_type": "stream",
     "text": [
      "Training set has 36177 samples.\n",
      "Testing set has 9045 samples.\n"
     ]
    }
   ],
   "source": [
    "# Splitting data into training and testing sets\n",
    "x_train, x_test, y_train, y_test = train_test_split(features_final, income, test_size=.2, random_state=0)\n",
    "n_train, n_test = x_train.shape[0], x_test.shape[0]\n",
    "\n",
    "print(f'Training set has {n_train} samples.')\n",
    "print(f'Testing set has {n_test} samples.')"
   ]
  },
  {
   "cell_type": "markdown",
   "metadata": {},
   "source": [
    "----\n",
    "\n",
    "<a id='choosing_a_model'></a>\n",
    "\n",
    "## Choosing a Model"
   ]
  },
  {
   "cell_type": "markdown",
   "metadata": {},
   "source": [
    "> In this section, four different models will have their performance metrics evaluated using a custom-tailored '`pipeline`'."
   ]
  },
  {
   "cell_type": "code",
   "execution_count": 14,
   "metadata": {
    "collapsed": true
   },
   "outputs": [],
   "source": [
    "def train_and_predict(learner, x_train, y_train, x_test, y_test) -> dict: \n",
    "   '''\n",
    "      Train and predict pipeline\n",
    "   '''\n",
    "   results = {}   \n",
    "   start = time()\n",
    "   # Fitting the model to the training data\n",
    "   _learner = learner.fit(x_train, y_train)\n",
    "   results['t_time'] = f'{round(time() - start, 4)}s'\n",
    "\n",
    "   start = time()\n",
    "   # Making predictions using the testing data\n",
    "   preds = _learner.predict(x_test)\n",
    "   results['p_time'] = f'{round(time() - start, 4)}s'\n",
    "\n",
    "   # Computing accuracy\n",
    "   results['accuracy'] = f'{(accuracy_score(y_test, preds) * 100):.2f}%'\n",
    "   \n",
    "   # Computing F-score\n",
    "   results['f_score'] = f'{(fbeta_score(y_test, preds, beta=.5) * 100):.2f}%'\n",
    "\n",
    "   print(f'{_learner.__class__.__name__} ✓')\n",
    "   return results"
   ]
  },
  {
   "cell_type": "markdown",
   "metadata": {},
   "source": [
    "<a id='implementation'></a>\n",
    "\n",
    "### Implementation"
   ]
  },
  {
   "cell_type": "code",
   "execution_count": 15,
   "metadata": {
    "collapsed": true
   },
   "outputs": [
    {
     "name": "stdout",
     "output_type": "stream",
     "text": [
      "Training 9044 Samples & Predciting 2261 Samples\n",
      "GaussianNB ✓\n",
      "DecisionTreeClassifier ✓\n",
      "RandomForestClassifier ✓\n",
      "SVC ✓\n",
      "Training 18088 Samples & Predciting 4522 Samples\n",
      "GaussianNB ✓\n",
      "DecisionTreeClassifier ✓\n",
      "RandomForestClassifier ✓\n",
      "SVC ✓\n",
      "Training 27133 Samples & Predciting 6784 Samples\n",
      "GaussianNB ✓\n",
      "DecisionTreeClassifier ✓\n",
      "RandomForestClassifier ✓\n",
      "SVC ✓\n",
      "Training 36177 Samples & Predciting 9045 Samples\n",
      "GaussianNB ✓\n",
      "DecisionTreeClassifier ✓\n",
      "RandomForestClassifier ✓\n",
      "SVC ✓\n"
     ]
    }
   ],
   "source": [
    "# Initializing the three models\n",
    "clf_A = GaussianNB()\n",
    "clf_B = DecisionTreeClassifier(random_state=42)\n",
    "clf_C = RandomForestClassifier(random_state=42)\n",
    "clf_D = SVC(random_state=42)\n",
    "\n",
    "results = {}\n",
    "# Iteratively running the pipeline using different sample sizes\n",
    "for ss in [.25, .5, .75, 1]:\n",
    "    results[ss] = {}\n",
    "    ss1, ss2 = round(n_train * ss), round(n_test * ss)\n",
    "    print(f'Training {ss1} Samples & Predciting {ss2} Samples')\n",
    "    for clf in [clf_A, clf_B, clf_C, clf_D]:\n",
    "        results[ss][clf.__class__.__name__] = train_and_predict(clf, x_train[:ss1], y_train[:ss1], x_test[:ss2], y_test[:ss2])"
   ]
  },
  {
   "cell_type": "code",
   "execution_count": 16,
   "metadata": {},
   "outputs": [],
   "source": [
    "dfs = []\n",
    "# Looping through sample sizes\n",
    "for a in results:\n",
    "    d = {}\n",
    "    # Looping through models\n",
    "    for b in results[a]:\n",
    "        r = []\n",
    "        for c in results[a][b]:\n",
    "            r.append(results[a][b][c])\n",
    "        d[b] = r\n",
    "    dfs.append(pd.DataFrame(data=d, index=['Training Time', 'Prediction Time', 'Accuracy', 'F-score']).\\\n",
    "        style.set_caption(f'{(a * 100):.0f}%'))"
   ]
  },
  {
   "cell_type": "code",
   "execution_count": 17,
   "metadata": {},
   "outputs": [
    {
     "data": {
      "text/html": [
       "<style type=\"text/css\">\n",
       "</style>\n",
       "<table id=\"T_2ac2e_\">\n",
       "  <caption>25%</caption>\n",
       "  <thead>\n",
       "    <tr>\n",
       "      <th class=\"blank level0\" >&nbsp;</th>\n",
       "      <th class=\"col_heading level0 col0\" >GaussianNB</th>\n",
       "      <th class=\"col_heading level0 col1\" >DecisionTreeClassifier</th>\n",
       "      <th class=\"col_heading level0 col2\" >RandomForestClassifier</th>\n",
       "      <th class=\"col_heading level0 col3\" >SVC</th>\n",
       "    </tr>\n",
       "  </thead>\n",
       "  <tbody>\n",
       "    <tr>\n",
       "      <th id=\"T_2ac2e_level0_row0\" class=\"row_heading level0 row0\" >Training Time</th>\n",
       "      <td id=\"T_2ac2e_row0_col0\" class=\"data row0 col0\" >0.048s</td>\n",
       "      <td id=\"T_2ac2e_row0_col1\" class=\"data row0 col1\" >0.113s</td>\n",
       "      <td id=\"T_2ac2e_row0_col2\" class=\"data row0 col2\" >1.577s</td>\n",
       "      <td id=\"T_2ac2e_row0_col3\" class=\"data row0 col3\" >5.759s</td>\n",
       "    </tr>\n",
       "    <tr>\n",
       "      <th id=\"T_2ac2e_level0_row1\" class=\"row_heading level0 row1\" >Prediction Time</th>\n",
       "      <td id=\"T_2ac2e_row1_col0\" class=\"data row1 col0\" >0.016s</td>\n",
       "      <td id=\"T_2ac2e_row1_col1\" class=\"data row1 col1\" >0.007s</td>\n",
       "      <td id=\"T_2ac2e_row1_col2\" class=\"data row1 col2\" >0.07s</td>\n",
       "      <td id=\"T_2ac2e_row1_col3\" class=\"data row1 col3\" >1.308s</td>\n",
       "    </tr>\n",
       "    <tr>\n",
       "      <th id=\"T_2ac2e_level0_row2\" class=\"row_heading level0 row2\" >Accuracy</th>\n",
       "      <td id=\"T_2ac2e_row2_col0\" class=\"data row2 col0\" >37.59%</td>\n",
       "      <td id=\"T_2ac2e_row2_col1\" class=\"data row2 col1\" >79.57%</td>\n",
       "      <td id=\"T_2ac2e_row2_col2\" class=\"data row2 col2\" >82.97%</td>\n",
       "      <td id=\"T_2ac2e_row2_col3\" class=\"data row2 col3\" >83.59%</td>\n",
       "    </tr>\n",
       "    <tr>\n",
       "      <th id=\"T_2ac2e_level0_row3\" class=\"row_heading level0 row3\" >F-score</th>\n",
       "      <td id=\"T_2ac2e_row3_col0\" class=\"data row3 col0\" >31.45%</td>\n",
       "      <td id=\"T_2ac2e_row3_col1\" class=\"data row3 col1\" >56.56%</td>\n",
       "      <td id=\"T_2ac2e_row3_col2\" class=\"data row3 col2\" >63.64%</td>\n",
       "      <td id=\"T_2ac2e_row3_col3\" class=\"data row3 col3\" >65.44%</td>\n",
       "    </tr>\n",
       "  </tbody>\n",
       "</table>\n",
       "<style type=\"text/css\">\n",
       "</style>\n",
       "<table id=\"T_fd8d1_\">\n",
       "  <caption>50%</caption>\n",
       "  <thead>\n",
       "    <tr>\n",
       "      <th class=\"blank level0\" >&nbsp;</th>\n",
       "      <th class=\"col_heading level0 col0\" >GaussianNB</th>\n",
       "      <th class=\"col_heading level0 col1\" >DecisionTreeClassifier</th>\n",
       "      <th class=\"col_heading level0 col2\" >RandomForestClassifier</th>\n",
       "      <th class=\"col_heading level0 col3\" >SVC</th>\n",
       "    </tr>\n",
       "  </thead>\n",
       "  <tbody>\n",
       "    <tr>\n",
       "      <th id=\"T_fd8d1_level0_row0\" class=\"row_heading level0 row0\" >Training Time</th>\n",
       "      <td id=\"T_fd8d1_row0_col0\" class=\"data row0 col0\" >0.061s</td>\n",
       "      <td id=\"T_fd8d1_row0_col1\" class=\"data row0 col1\" >0.232s</td>\n",
       "      <td id=\"T_fd8d1_row0_col2\" class=\"data row0 col2\" >2.712s</td>\n",
       "      <td id=\"T_fd8d1_row0_col3\" class=\"data row0 col3\" >25.495s</td>\n",
       "    </tr>\n",
       "    <tr>\n",
       "      <th id=\"T_fd8d1_level0_row1\" class=\"row_heading level0 row1\" >Prediction Time</th>\n",
       "      <td id=\"T_fd8d1_row1_col0\" class=\"data row1 col0\" >0.02s</td>\n",
       "      <td id=\"T_fd8d1_row1_col1\" class=\"data row1 col1\" >0.009s</td>\n",
       "      <td id=\"T_fd8d1_row1_col2\" class=\"data row1 col2\" >0.141s</td>\n",
       "      <td id=\"T_fd8d1_row1_col3\" class=\"data row1 col3\" >5.603s</td>\n",
       "    </tr>\n",
       "    <tr>\n",
       "      <th id=\"T_fd8d1_level0_row2\" class=\"row_heading level0 row2\" >Accuracy</th>\n",
       "      <td id=\"T_fd8d1_row2_col0\" class=\"data row2 col0\" >47.46%</td>\n",
       "      <td id=\"T_fd8d1_row2_col1\" class=\"data row2 col1\" >81.71%</td>\n",
       "      <td id=\"T_fd8d1_row2_col2\" class=\"data row2 col2\" >83.97%</td>\n",
       "      <td id=\"T_fd8d1_row2_col3\" class=\"data row2 col3\" >84.25%</td>\n",
       "    </tr>\n",
       "    <tr>\n",
       "      <th id=\"T_fd8d1_level0_row3\" class=\"row_heading level0 row3\" >F-score</th>\n",
       "      <td id=\"T_fd8d1_row3_col0\" class=\"data row3 col0\" >35.21%</td>\n",
       "      <td id=\"T_fd8d1_row3_col1\" class=\"data row3 col1\" >61.03%</td>\n",
       "      <td id=\"T_fd8d1_row3_col2\" class=\"data row3 col2\" >65.94%</td>\n",
       "      <td id=\"T_fd8d1_row3_col3\" class=\"data row3 col3\" >67.14%</td>\n",
       "    </tr>\n",
       "  </tbody>\n",
       "</table>\n",
       "<style type=\"text/css\">\n",
       "</style>\n",
       "<table id=\"T_b7416_\">\n",
       "  <caption>75%</caption>\n",
       "  <thead>\n",
       "    <tr>\n",
       "      <th class=\"blank level0\" >&nbsp;</th>\n",
       "      <th class=\"col_heading level0 col0\" >GaussianNB</th>\n",
       "      <th class=\"col_heading level0 col1\" >DecisionTreeClassifier</th>\n",
       "      <th class=\"col_heading level0 col2\" >RandomForestClassifier</th>\n",
       "      <th class=\"col_heading level0 col3\" >SVC</th>\n",
       "    </tr>\n",
       "  </thead>\n",
       "  <tbody>\n",
       "    <tr>\n",
       "      <th id=\"T_b7416_level0_row0\" class=\"row_heading level0 row0\" >Training Time</th>\n",
       "      <td id=\"T_b7416_row0_col0\" class=\"data row0 col0\" >0.094s</td>\n",
       "      <td id=\"T_b7416_row0_col1\" class=\"data row0 col1\" >0.318s</td>\n",
       "      <td id=\"T_b7416_row0_col2\" class=\"data row0 col2\" >4.117s</td>\n",
       "      <td id=\"T_b7416_row0_col3\" class=\"data row0 col3\" >55.97s</td>\n",
       "    </tr>\n",
       "    <tr>\n",
       "      <th id=\"T_b7416_level0_row1\" class=\"row_heading level0 row1\" >Prediction Time</th>\n",
       "      <td id=\"T_b7416_row1_col0\" class=\"data row1 col0\" >0.028s</td>\n",
       "      <td id=\"T_b7416_row1_col1\" class=\"data row1 col1\" >0.008s</td>\n",
       "      <td id=\"T_b7416_row1_col2\" class=\"data row1 col2\" >0.206s</td>\n",
       "      <td id=\"T_b7416_row1_col3\" class=\"data row1 col3\" >12.316s</td>\n",
       "    </tr>\n",
       "    <tr>\n",
       "      <th id=\"T_b7416_level0_row2\" class=\"row_heading level0 row2\" >Accuracy</th>\n",
       "      <td id=\"T_b7416_row2_col0\" class=\"data row2 col0\" >58.17%</td>\n",
       "      <td id=\"T_b7416_row2_col1\" class=\"data row2 col1\" >81.44%</td>\n",
       "      <td id=\"T_b7416_row2_col2\" class=\"data row2 col2\" >83.83%</td>\n",
       "      <td id=\"T_b7416_row2_col3\" class=\"data row2 col3\" >84.30%</td>\n",
       "    </tr>\n",
       "    <tr>\n",
       "      <th id=\"T_b7416_level0_row3\" class=\"row_heading level0 row3\" >F-score</th>\n",
       "      <td id=\"T_b7416_row3_col0\" class=\"data row3 col0\" >40.89%</td>\n",
       "      <td id=\"T_b7416_row3_col1\" class=\"data row3 col1\" >61.34%</td>\n",
       "      <td id=\"T_b7416_row3_col2\" class=\"data row3 col2\" >66.60%</td>\n",
       "      <td id=\"T_b7416_row3_col3\" class=\"data row3 col3\" >68.33%</td>\n",
       "    </tr>\n",
       "  </tbody>\n",
       "</table>\n",
       "<style type=\"text/css\">\n",
       "</style>\n",
       "<table id=\"T_789d8_\">\n",
       "  <caption>100%</caption>\n",
       "  <thead>\n",
       "    <tr>\n",
       "      <th class=\"blank level0\" >&nbsp;</th>\n",
       "      <th class=\"col_heading level0 col0\" >GaussianNB</th>\n",
       "      <th class=\"col_heading level0 col1\" >DecisionTreeClassifier</th>\n",
       "      <th class=\"col_heading level0 col2\" >RandomForestClassifier</th>\n",
       "      <th class=\"col_heading level0 col3\" >SVC</th>\n",
       "    </tr>\n",
       "  </thead>\n",
       "  <tbody>\n",
       "    <tr>\n",
       "      <th id=\"T_789d8_level0_row0\" class=\"row_heading level0 row0\" >Training Time</th>\n",
       "      <td id=\"T_789d8_row0_col0\" class=\"data row0 col0\" >0.119s</td>\n",
       "      <td id=\"T_789d8_row0_col1\" class=\"data row0 col1\" >0.434s</td>\n",
       "      <td id=\"T_789d8_row0_col2\" class=\"data row0 col2\" >5.956s</td>\n",
       "      <td id=\"T_789d8_row0_col3\" class=\"data row0 col3\" >101.721s</td>\n",
       "    </tr>\n",
       "    <tr>\n",
       "      <th id=\"T_789d8_level0_row1\" class=\"row_heading level0 row1\" >Prediction Time</th>\n",
       "      <td id=\"T_789d8_row1_col0\" class=\"data row1 col0\" >0.036s</td>\n",
       "      <td id=\"T_789d8_row1_col1\" class=\"data row1 col1\" >0.011s</td>\n",
       "      <td id=\"T_789d8_row1_col2\" class=\"data row1 col2\" >0.301s</td>\n",
       "      <td id=\"T_789d8_row1_col3\" class=\"data row1 col3\" >22.823s</td>\n",
       "    </tr>\n",
       "    <tr>\n",
       "      <th id=\"T_789d8_level0_row2\" class=\"row_heading level0 row2\" >Accuracy</th>\n",
       "      <td id=\"T_789d8_row2_col0\" class=\"data row2 col0\" >59.77%</td>\n",
       "      <td id=\"T_789d8_row2_col1\" class=\"data row2 col1\" >81.86%</td>\n",
       "      <td id=\"T_789d8_row2_col2\" class=\"data row2 col2\" >84.23%</td>\n",
       "      <td id=\"T_789d8_row2_col3\" class=\"data row2 col3\" >84.23%</td>\n",
       "    </tr>\n",
       "    <tr>\n",
       "      <th id=\"T_789d8_level0_row3\" class=\"row_heading level0 row3\" >F-score</th>\n",
       "      <td id=\"T_789d8_row3_col0\" class=\"data row3 col0\" >42.09%</td>\n",
       "      <td id=\"T_789d8_row3_col1\" class=\"data row3 col1\" >62.79%</td>\n",
       "      <td id=\"T_789d8_row3_col2\" class=\"data row3 col2\" >68.13%</td>\n",
       "      <td id=\"T_789d8_row3_col3\" class=\"data row3 col3\" >68.51%</td>\n",
       "    </tr>\n",
       "  </tbody>\n",
       "</table>\n"
      ]
     },
     "metadata": {},
     "output_type": "display_data"
    }
   ],
   "source": [
    "vs.displayx(dfs)"
   ]
  },
  {
   "cell_type": "markdown",
   "metadata": {},
   "source": [
    "> It's clear that the '`RandomForestClassifier`' have outperformed the other three candidates in terms of accuracy and F-score (against time)."
   ]
  },
  {
   "cell_type": "markdown",
   "metadata": {},
   "source": [
    "<a id='improving_results'></a>\n",
    "\n",
    "### Improving Results"
   ]
  },
  {
   "cell_type": "markdown",
   "metadata": {},
   "source": [
    "> In this section, three different parameters will be fine-tuned as a mean to improve the model's performance."
   ]
  },
  {
   "cell_type": "code",
   "execution_count": 18,
   "metadata": {},
   "outputs": [
    {
     "data": {
      "text/html": [
       "<div>\n",
       "<style scoped>\n",
       "    .dataframe tbody tr th:only-of-type {\n",
       "        vertical-align: middle;\n",
       "    }\n",
       "\n",
       "    .dataframe tbody tr th {\n",
       "        vertical-align: top;\n",
       "    }\n",
       "\n",
       "    .dataframe thead th {\n",
       "        text-align: right;\n",
       "    }\n",
       "</style>\n",
       "<table border=\"1\" class=\"dataframe\">\n",
       "  <thead>\n",
       "    <tr style=\"text-align: right;\">\n",
       "      <th></th>\n",
       "      <th>RandomForestClassifier</th>\n",
       "    </tr>\n",
       "  </thead>\n",
       "  <tbody>\n",
       "    <tr>\n",
       "      <th>bootstrap</th>\n",
       "      <td>True</td>\n",
       "    </tr>\n",
       "    <tr>\n",
       "      <th>ccp_alpha</th>\n",
       "      <td>0.0</td>\n",
       "    </tr>\n",
       "    <tr>\n",
       "      <th>class_weight</th>\n",
       "      <td>None</td>\n",
       "    </tr>\n",
       "    <tr>\n",
       "      <th>criterion</th>\n",
       "      <td>gini</td>\n",
       "    </tr>\n",
       "    <tr>\n",
       "      <th>max_depth</th>\n",
       "      <td>None</td>\n",
       "    </tr>\n",
       "    <tr>\n",
       "      <th>max_features</th>\n",
       "      <td>auto</td>\n",
       "    </tr>\n",
       "    <tr>\n",
       "      <th>max_leaf_nodes</th>\n",
       "      <td>None</td>\n",
       "    </tr>\n",
       "    <tr>\n",
       "      <th>max_samples</th>\n",
       "      <td>None</td>\n",
       "    </tr>\n",
       "    <tr>\n",
       "      <th>min_impurity_decrease</th>\n",
       "      <td>0.0</td>\n",
       "    </tr>\n",
       "    <tr>\n",
       "      <th>min_samples_leaf</th>\n",
       "      <td>1</td>\n",
       "    </tr>\n",
       "    <tr>\n",
       "      <th>min_samples_split</th>\n",
       "      <td>2</td>\n",
       "    </tr>\n",
       "    <tr>\n",
       "      <th>min_weight_fraction_leaf</th>\n",
       "      <td>0.0</td>\n",
       "    </tr>\n",
       "    <tr>\n",
       "      <th>n_estimators</th>\n",
       "      <td>100</td>\n",
       "    </tr>\n",
       "    <tr>\n",
       "      <th>n_jobs</th>\n",
       "      <td>None</td>\n",
       "    </tr>\n",
       "    <tr>\n",
       "      <th>oob_score</th>\n",
       "      <td>False</td>\n",
       "    </tr>\n",
       "    <tr>\n",
       "      <th>random_state</th>\n",
       "      <td>42</td>\n",
       "    </tr>\n",
       "    <tr>\n",
       "      <th>verbose</th>\n",
       "      <td>0</td>\n",
       "    </tr>\n",
       "    <tr>\n",
       "      <th>warm_start</th>\n",
       "      <td>False</td>\n",
       "    </tr>\n",
       "  </tbody>\n",
       "</table>\n",
       "</div>"
      ],
      "text/plain": [
       "                         RandomForestClassifier\n",
       "bootstrap                                  True\n",
       "ccp_alpha                                   0.0\n",
       "class_weight                               None\n",
       "criterion                                  gini\n",
       "max_depth                                  None\n",
       "max_features                               auto\n",
       "max_leaf_nodes                             None\n",
       "max_samples                                None\n",
       "min_impurity_decrease                       0.0\n",
       "min_samples_leaf                              1\n",
       "min_samples_split                             2\n",
       "min_weight_fraction_leaf                    0.0\n",
       "n_estimators                                100\n",
       "n_jobs                                     None\n",
       "oob_score                                 False\n",
       "random_state                                 42\n",
       "verbose                                       0\n",
       "warm_start                                False"
      ]
     },
     "execution_count": 18,
     "metadata": {},
     "output_type": "execute_result"
    }
   ],
   "source": [
    "params = clf_C.get_params()\n",
    "pd.DataFrame(data=params.values(), index=params.keys(), columns=['RandomForestClassifier'])"
   ]
  },
  {
   "cell_type": "code",
   "execution_count": 19,
   "metadata": {
    "collapsed": true
   },
   "outputs": [],
   "source": [
    "# Initializing the model\n",
    "clf = RandomForestClassifier(random_state=42)\n",
    "\n",
    "parameters = {'max_depth': [2, 4, 6, 8, 10], 'min_samples_leaf': [2, 4, 6, 8, 10],'min_samples_split': [2, 4, 6, 8, 10]}\n",
    "\n",
    "# Making a scorer and preforming a grid search\n",
    "scorer = make_scorer(fbeta_score, beta=.5)\n",
    "grid_obj = GridSearchCV(estimator=clf, param_grid=parameters, scoring=scorer)\n",
    "\n",
    "# Fitting the grid search object with the training data\n",
    "grid_fit = grid_obj.fit(x_train, y_train)\n",
    "\n",
    "# Make predictions using the optimized model\n",
    "best_clf = grid_fit.best_estimator_\n",
    "best_predictions = best_clf.predict(x_test)"
   ]
  },
  {
   "cell_type": "code",
   "execution_count": 20,
   "metadata": {},
   "outputs": [
    {
     "name": "stdout",
     "output_type": "stream",
     "text": [
      "max_depth: 10\n",
      "min_samples_leaf: 2\n",
      "min_samples_split: 8\n"
     ]
    }
   ],
   "source": [
    "params = best_clf.get_params()\n",
    "print(f\"max_depth: {params['max_depth']}\")\n",
    "print(f\"min_samples_leaf: {params['min_samples_leaf']}\")\n",
    "print(f\"min_samples_split: {params['min_samples_split']}\")"
   ]
  },
  {
   "cell_type": "code",
   "execution_count": 21,
   "metadata": {},
   "outputs": [
    {
     "name": "stdout",
     "output_type": "stream",
     "text": [
      "Δ Accuracy: 1.38%\n"
     ]
    }
   ],
   "source": [
    "old_acc = float(results[1]['RandomForestClassifier']['accuracy'][:-1])\n",
    "new_acc = round(accuracy_score(y_test, best_predictions) * 100, 2)\n",
    "\n",
    "print(f'Δ Accuracy: {(new_acc - old_acc):.2f}%')"
   ]
  },
  {
   "cell_type": "code",
   "execution_count": 22,
   "metadata": {},
   "outputs": [
    {
     "name": "stdout",
     "output_type": "stream",
     "text": [
      "Δ F-score: 4.78%\n"
     ]
    }
   ],
   "source": [
    "old_fscore = float(results[1]['RandomForestClassifier']['f_score'][:-1])\n",
    "new_fscore = round(fbeta_score(y_test, best_predictions, beta=.5) * 100, 2)\n",
    "\n",
    "print(f'Δ F-score: {(new_fscore - old_fscore):.2f}%')"
   ]
  },
  {
   "cell_type": "markdown",
   "metadata": {},
   "source": [
    "> After fine-tuning three parameters ('`max_depth`', '`min_samples_leaf`', and '`min_samples_split`'), both accuracy and F-score increased."
   ]
  },
  {
   "cell_type": "code",
   "execution_count": 23,
   "metadata": {},
   "outputs": [],
   "source": [
    "# Saving the model\n",
    "pickle.dump(best_clf, open('best_clf', 'wb'))"
   ]
  },
  {
   "cell_type": "markdown",
   "metadata": {},
   "source": [
    "<center>-</center>"
   ]
  }
 ],
 "metadata": {
  "kernelspec": {
   "display_name": "Python 3",
   "language": "python",
   "name": "python3"
  },
  "language_info": {
   "codemirror_mode": {
    "name": "ipython",
    "version": 3
   },
   "file_extension": ".py",
   "mimetype": "text/x-python",
   "name": "python",
   "nbconvert_exporter": "python",
   "pygments_lexer": "ipython3",
   "version": "3.10.1"
  }
 },
 "nbformat": 4,
 "nbformat_minor": 1
}
